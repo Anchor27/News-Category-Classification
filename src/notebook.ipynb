{
  "nbformat": 4,
  "nbformat_minor": 0,
  "metadata": {
    "colab": {
      "provenance": [],
      "gpuType": "T4"
    },
    "kernelspec": {
      "name": "python3",
      "display_name": "Python 3"
    },
    "language_info": {
      "name": "python"
    },
    "accelerator": "GPU"
  },
  "cells": [
    {
      "cell_type": "code",
      "execution_count": null,
      "metadata": {
        "colab": {
          "base_uri": "https://localhost:8080/"
        },
        "id": "PVuKrryuIRy9",
        "outputId": "c328eda2-ed88-4a0a-8e06-e7a3297cd607"
      },
      "outputs": [
        {
          "output_type": "stream",
          "name": "stdout",
          "text": [
            "Requirement already satisfied: scikit-learn in /usr/local/lib/python3.10/dist-packages (1.2.2)\n",
            "Requirement already satisfied: numpy>=1.17.3 in /usr/local/lib/python3.10/dist-packages (from scikit-learn) (1.23.5)\n",
            "Requirement already satisfied: scipy>=1.3.2 in /usr/local/lib/python3.10/dist-packages (from scikit-learn) (1.11.3)\n",
            "Requirement already satisfied: joblib>=1.1.1 in /usr/local/lib/python3.10/dist-packages (from scikit-learn) (1.3.2)\n",
            "Requirement already satisfied: threadpoolctl>=2.0.0 in /usr/local/lib/python3.10/dist-packages (from scikit-learn) (3.2.0)\n"
          ]
        }
      ],
      "source": [
        "!pip install scikit-learn"
      ]
    },
    {
      "cell_type": "code",
      "source": [
        "import pandas as pd\n",
        "\n",
        "# URL of the CSV file\n",
        "csv_url = 'https://raw.githubusercontent.com/Joshi-Aryan/news-category-classification/main/news_corpus(cleaned).csv'  # Replace with the actual URL of your CSV file\n",
        "\n",
        "# Load the CSV file into a DataFrame and ignore the original index\n",
        "combined_data = pd.read_csv(csv_url)\n",
        "\n",
        "# Reset the index to be continuous and ignore the original index\n",
        "combined_data.reset_index(drop=True, inplace=True)"
      ],
      "metadata": {
        "id": "Xsq195dD0JrE"
      },
      "execution_count": null,
      "outputs": []
    },
    {
      "cell_type": "code",
      "source": [
        "import pandas as pd\n",
        "import numpy as np\n",
        "from sklearn.feature_extraction.text import TfidfVectorizer\n",
        "from sklearn.model_selection import train_test_split\n",
        "from sklearn.ensemble import RandomForestClassifier\n",
        "from sklearn.metrics import classification_report, accuracy_score\n",
        "from scipy import sparse\n",
        "\n",
        "# Define a function to read data in chunks\n",
        "def read_csv_in_chunks(url, chunk_size=1000):\n",
        "    reader = pd.read_csv(url, chunksize=chunk_size)\n",
        "    for chunk in reader:\n",
        "        yield chunk\n",
        "\n",
        "combined_data['headline'] = combined_data['headline'].fillna('')\n",
        "\n",
        "# Convert the linguistic features to a sparse matrix\n",
        "combined_data['text_length'] = combined_data['headline'].apply(len)\n",
        "combined_data['num_words'] = combined_data['headline'].apply(lambda x: len(x.split()))\n",
        "linguistic_features = combined_data[['text_length', 'num_words']]\n",
        "\n",
        "combined_data = combined_data.sample(frac=1, random_state=42).reset_index(drop=True)\n",
        "\n",
        "# Split the data into train and test\n",
        "X_train_text, X_test_text, y_train, y_test = train_test_split(combined_data['headline'], combined_data['category'], test_size=0.2, random_state=42)\n",
        "\n",
        "# Character n-gram features\n",
        "char_vectorizer = TfidfVectorizer(analyzer='char', ngram_range=(2, 5), lowercase=True)\n",
        "char_ngram_features = char_vectorizer.fit_transform(X_train_text)\n",
        "\n",
        "# Word n-gram features\n",
        "word_vectorizer = TfidfVectorizer(analyzer='word', ngram_range=(1, 3), lowercase=True)\n",
        "word_ngram_features = word_vectorizer.fit_transform(X_train_text)\n",
        "\n",
        "# Convert features to sparse matrices\n",
        "char_ngram_features = sparse.csr_matrix(char_ngram_features)\n",
        "word_ngram_features = sparse.csr_matrix(word_ngram_features)\n",
        "\n",
        "# Combine the sparse matrices\n",
        "combined_features = sparse.hstack((char_ngram_features, word_ngram_features))\n",
        "\n",
        "# Release the memory occupied by X_train_text, char_ngram_features, and word_ngram_features\n",
        "del X_train_text, char_ngram_features, word_ngram_features\n",
        "\n",
        "linguistic_features = sparse.csr_matrix(linguistic_features)\n",
        "\n",
        "# Ensure linguistic_features and combined_features have compatible dimensions\n",
        "if linguistic_features.shape[0] != combined_features.shape[0]:\n",
        "    linguistic_features = linguistic_features[:combined_features.shape[0], :]\n",
        "\n",
        "combined_features = sparse.hstack((combined_features, linguistic_features)).tocsr()\n",
        "\n",
        "'''# Release the memory occupied by linguistic_features\n",
        "del linguistic_features\n",
        "'''"
      ],
      "metadata": {
        "colab": {
          "base_uri": "https://localhost:8080/",
          "height": 36
        },
        "id": "vB9j2_A2IUPJ",
        "outputId": "5e91c897-f475-4c68-db14-c3c7b52f6444"
      },
      "execution_count": null,
      "outputs": [
        {
          "output_type": "execute_result",
          "data": {
            "text/plain": [
              "'# Release the memory occupied by linguistic_features\\ndel linguistic_features\\n'"
            ],
            "application/vnd.google.colaboratory.intrinsic+json": {
              "type": "string"
            }
          },
          "metadata": {},
          "execution_count": 8
        }
      ]
    },
    {
      "cell_type": "code",
      "source": [
        "\n",
        "model = RandomForestClassifier(n_estimators=100, random_state=42)\n",
        "model.fit(combined_features, y_train)\n"
      ],
      "metadata": {
        "colab": {
          "base_uri": "https://localhost:8080/",
          "height": 75
        },
        "id": "i5NnRJfyIj50",
        "outputId": "41231e36-3736-41bf-816f-c2ceab7a69a9"
      },
      "execution_count": null,
      "outputs": [
        {
          "output_type": "execute_result",
          "data": {
            "text/plain": [
              "RandomForestClassifier(random_state=42)"
            ],
            "text/html": [
              "<style>#sk-container-id-1 {color: black;background-color: white;}#sk-container-id-1 pre{padding: 0;}#sk-container-id-1 div.sk-toggleable {background-color: white;}#sk-container-id-1 label.sk-toggleable__label {cursor: pointer;display: block;width: 100%;margin-bottom: 0;padding: 0.3em;box-sizing: border-box;text-align: center;}#sk-container-id-1 label.sk-toggleable__label-arrow:before {content: \"▸\";float: left;margin-right: 0.25em;color: #696969;}#sk-container-id-1 label.sk-toggleable__label-arrow:hover:before {color: black;}#sk-container-id-1 div.sk-estimator:hover label.sk-toggleable__label-arrow:before {color: black;}#sk-container-id-1 div.sk-toggleable__content {max-height: 0;max-width: 0;overflow: hidden;text-align: left;background-color: #f0f8ff;}#sk-container-id-1 div.sk-toggleable__content pre {margin: 0.2em;color: black;border-radius: 0.25em;background-color: #f0f8ff;}#sk-container-id-1 input.sk-toggleable__control:checked~div.sk-toggleable__content {max-height: 200px;max-width: 100%;overflow: auto;}#sk-container-id-1 input.sk-toggleable__control:checked~label.sk-toggleable__label-arrow:before {content: \"▾\";}#sk-container-id-1 div.sk-estimator input.sk-toggleable__control:checked~label.sk-toggleable__label {background-color: #d4ebff;}#sk-container-id-1 div.sk-label input.sk-toggleable__control:checked~label.sk-toggleable__label {background-color: #d4ebff;}#sk-container-id-1 input.sk-hidden--visually {border: 0;clip: rect(1px 1px 1px 1px);clip: rect(1px, 1px, 1px, 1px);height: 1px;margin: -1px;overflow: hidden;padding: 0;position: absolute;width: 1px;}#sk-container-id-1 div.sk-estimator {font-family: monospace;background-color: #f0f8ff;border: 1px dotted black;border-radius: 0.25em;box-sizing: border-box;margin-bottom: 0.5em;}#sk-container-id-1 div.sk-estimator:hover {background-color: #d4ebff;}#sk-container-id-1 div.sk-parallel-item::after {content: \"\";width: 100%;border-bottom: 1px solid gray;flex-grow: 1;}#sk-container-id-1 div.sk-label:hover label.sk-toggleable__label {background-color: #d4ebff;}#sk-container-id-1 div.sk-serial::before {content: \"\";position: absolute;border-left: 1px solid gray;box-sizing: border-box;top: 0;bottom: 0;left: 50%;z-index: 0;}#sk-container-id-1 div.sk-serial {display: flex;flex-direction: column;align-items: center;background-color: white;padding-right: 0.2em;padding-left: 0.2em;position: relative;}#sk-container-id-1 div.sk-item {position: relative;z-index: 1;}#sk-container-id-1 div.sk-parallel {display: flex;align-items: stretch;justify-content: center;background-color: white;position: relative;}#sk-container-id-1 div.sk-item::before, #sk-container-id-1 div.sk-parallel-item::before {content: \"\";position: absolute;border-left: 1px solid gray;box-sizing: border-box;top: 0;bottom: 0;left: 50%;z-index: -1;}#sk-container-id-1 div.sk-parallel-item {display: flex;flex-direction: column;z-index: 1;position: relative;background-color: white;}#sk-container-id-1 div.sk-parallel-item:first-child::after {align-self: flex-end;width: 50%;}#sk-container-id-1 div.sk-parallel-item:last-child::after {align-self: flex-start;width: 50%;}#sk-container-id-1 div.sk-parallel-item:only-child::after {width: 0;}#sk-container-id-1 div.sk-dashed-wrapped {border: 1px dashed gray;margin: 0 0.4em 0.5em 0.4em;box-sizing: border-box;padding-bottom: 0.4em;background-color: white;}#sk-container-id-1 div.sk-label label {font-family: monospace;font-weight: bold;display: inline-block;line-height: 1.2em;}#sk-container-id-1 div.sk-label-container {text-align: center;}#sk-container-id-1 div.sk-container {/* jupyter's `normalize.less` sets `[hidden] { display: none; }` but bootstrap.min.css set `[hidden] { display: none !important; }` so we also need the `!important` here to be able to override the default hidden behavior on the sphinx rendered scikit-learn.org. See: https://github.com/scikit-learn/scikit-learn/issues/21755 */display: inline-block !important;position: relative;}#sk-container-id-1 div.sk-text-repr-fallback {display: none;}</style><div id=\"sk-container-id-1\" class=\"sk-top-container\"><div class=\"sk-text-repr-fallback\"><pre>RandomForestClassifier(random_state=42)</pre><b>In a Jupyter environment, please rerun this cell to show the HTML representation or trust the notebook. <br />On GitHub, the HTML representation is unable to render, please try loading this page with nbviewer.org.</b></div><div class=\"sk-container\" hidden><div class=\"sk-item\"><div class=\"sk-estimator sk-toggleable\"><input class=\"sk-toggleable__control sk-hidden--visually\" id=\"sk-estimator-id-1\" type=\"checkbox\" checked><label for=\"sk-estimator-id-1\" class=\"sk-toggleable__label sk-toggleable__label-arrow\">RandomForestClassifier</label><div class=\"sk-toggleable__content\"><pre>RandomForestClassifier(random_state=42)</pre></div></div></div></div></div>"
            ]
          },
          "metadata": {},
          "execution_count": 9
        }
      ]
    },
    {
      "cell_type": "code",
      "source": [
        "# Transform the test data\n",
        "X_test_char_ngram_features = char_vectorizer.transform(X_test_text)\n",
        "X_test_word_ngram_features = word_vectorizer.transform(X_test_text)\n",
        "\n",
        "# Convert test features to sparse matrices\n",
        "X_test_char_ngram_features = sparse.csr_matrix(X_test_char_ngram_features)\n",
        "X_test_word_ngram_features = sparse.csr_matrix(X_test_word_ngram_features)\n",
        "\n",
        "# Combine the test features\n",
        "X_test_combined_features = sparse.hstack((X_test_char_ngram_features, X_test_word_ngram_features))\n",
        "\n",
        "# Convert linguistic features of test data to sparse matrix\n",
        "linguistic_features_test = pd.DataFrame({'text_length': X_test_text.apply(len), 'num_words': X_test_text.apply(lambda x: len(x.split()))})\n",
        "linguistic_features_test = sparse.csr_matrix(linguistic_features_test)\n",
        "\n",
        "# Ensure linguistic_features_test and X_test_combined_features have compatible dimensions\n",
        "if linguistic_features_test.shape[0] != X_test_combined_features.shape[0]:\n",
        "    linguistic_features_test = linguistic_features_test[:X_test_combined_features.shape[0], :]\n",
        "\n",
        "X_test_combined_features = sparse.hstack((X_test_combined_features, linguistic_features_test)).tocsr()\n",
        "\n",
        "# Release the memory occupied by X_test_combined_features and linguistic_features_test\n",
        "'''del X_test_combined_features, linguistic_features_test\n",
        "'''"
      ],
      "metadata": {
        "colab": {
          "base_uri": "https://localhost:8080/",
          "height": 36
        },
        "id": "8UF4u5igIldp",
        "outputId": "8296e7c2-6c26-4a93-cc09-6524895dc4b8"
      },
      "execution_count": null,
      "outputs": [
        {
          "output_type": "execute_result",
          "data": {
            "text/plain": [
              "'del X_test_combined_features, linguistic_features_test\\n'"
            ],
            "application/vnd.google.colaboratory.intrinsic+json": {
              "type": "string"
            }
          },
          "metadata": {},
          "execution_count": 10
        }
      ]
    },
    {
      "cell_type": "code",
      "source": [
        "y_pred = model.predict(X_test_combined_features)\n",
        "\n",
        "\n",
        "print(\"Accuracy:\", accuracy_score(y_test, y_pred))\n",
        "print(\"Classification Report:\")\n",
        "print(classification_report(y_test, y_pred))"
      ],
      "metadata": {
        "colab": {
          "base_uri": "https://localhost:8080/"
        },
        "id": "He5FK4VlInNB",
        "outputId": "c5cc9eb8-2293-41f1-d7cc-3f704d1282f8"
      },
      "execution_count": null,
      "outputs": [
        {
          "output_type": "stream",
          "name": "stdout",
          "text": [
            "Accuracy: 0.7923408845738943\n",
            "Classification Report:\n",
            "               precision    recall  f1-score   support\n",
            "\n",
            "  declarative       0.76      0.95      0.84       941\n",
            "  exclamatory       1.00      0.31      0.47        13\n",
            "         frag       0.87      0.84      0.85       609\n",
            "   imperative       0.50      0.11      0.17        19\n",
            "interrogative       0.82      0.12      0.20        77\n",
            "      np_drop       0.77      0.43      0.55        79\n",
            "          qws       0.83      0.09      0.16       116\n",
            "\n",
            "     accuracy                           0.79      1854\n",
            "    macro avg       0.79      0.41      0.47      1854\n",
            " weighted avg       0.80      0.79      0.76      1854\n",
            "\n"
          ]
        }
      ]
    }
  ]
}